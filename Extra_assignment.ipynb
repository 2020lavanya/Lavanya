{
  "nbformat": 4,
  "nbformat_minor": 0,
  "metadata": {
    "colab": {
      "provenance": []
    },
    "kernelspec": {
      "name": "python3",
      "display_name": "Python 3"
    },
    "language_info": {
      "name": "python"
    }
  },
  "cells": [
    {
      "cell_type": "markdown",
      "source": [
        "Easy:\n",
        "Given an integer array nums where the elements are sorted in ascending order, convert it to a\n",
        "height-balanced binary search tree."
      ],
      "metadata": {
        "id": "NUH4k0-3mI_w"
      }
    },
    {
      "cell_type": "code",
      "source": [
        "class TreeNode:\n",
        "    def __init__(self, val=0, left=None, right=None):\n",
        "        self.val = val\n",
        "        self.left = left\n",
        "        self.right = right\n",
        "\n",
        "def sorted_array_to_bst(nums):\n",
        "    if not nums:\n",
        "        return None\n",
        "\n",
        "    mid = len(nums) // 2\n",
        "    root = TreeNode(nums[mid])\n",
        "\n",
        "    # Construct left and right subtrees recursively\n",
        "    root.left = sorted_array_to_bst(nums[:mid])\n",
        "    root.right = sorted_array_to_bst(nums[mid+1:])\n",
        "\n",
        "    return root\n",
        "\n",
        "# Example usage:\n",
        "nums = list(map(int, input_str.split()))\n",
        "result_tree = sorted_array_to_bst(nums)\n"
      ],
      "metadata": {
        "id": "uKRlLk3cmuqz"
      },
      "execution_count": null,
      "outputs": []
    },
    {
      "cell_type": "markdown",
      "source": [
        "Hard:\n",
        "You are given a string s. You can convert s to a palindrome by adding characters in front of it. Return the shortest palindrome you can find by performing this transformation"
      ],
      "metadata": {
        "id": "XEQcwMBlmtIV"
      }
    },
    {
      "cell_type": "code",
      "source": [
        "def shortest_palindrome(s):\n",
        "    if not s:\n",
        "        return s\n",
        "\n",
        "    # Find the longest palindrome suffix of the string\n",
        "    i = 0\n",
        "    for j in range(len(s) - 1, -1, -1):\n",
        "        if s[i] == s[j]:\n",
        "            i += 1\n",
        "\n",
        "    # If the whole string is a palindrome, no need to add characters\n",
        "    if i == len(s):\n",
        "        return s\n",
        "\n",
        "    # Add the remaining characters in reverse order in front of the original string\n",
        "    remaining = s[i:]\n",
        "    return remaining[::-1] + s\n",
        "\n",
        "\n",
        "input_str = input()\n",
        "result = shortest_palindrome(input_str)\n",
        "print(\"Shortest palindrome:\", result)"
      ],
      "metadata": {
        "id": "D4wzynKhoCvX"
      },
      "execution_count": null,
      "outputs": []
    }
  ]
}