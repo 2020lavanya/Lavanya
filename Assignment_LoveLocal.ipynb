{
  "nbformat": 4,
  "nbformat_minor": 0,
  "metadata": {
    "colab": {
      "provenance": []
    },
    "kernelspec": {
      "name": "python3",
      "display_name": "Python 3"
    },
    "language_info": {
      "name": "python"
    }
  },
  "cells": [
    {
      "cell_type": "markdown",
      "source": [
        "Easy:\n",
        "Given a string s consisting of words and spaces, return the length of the last word in the string."
      ],
      "metadata": {
        "id": "aEe7dgOwU8jA"
      }
    },
    {
      "cell_type": "code",
      "source": [
        "def length_of_last_word(s):\n",
        "    # Remove trailing and leading spaces\n",
        "    #  spliting the string by spaces\n",
        "    words = s.strip().split()\n",
        "\n",
        "    # If there are no words, return 0\n",
        "    if not words:\n",
        "        return 0\n",
        "\n",
        "    # Return the length of the last word in the list\n",
        "    return len(words[-1])\n",
        "\n",
        "# Example\n",
        "input_string = input()  #taking input from the user\n",
        "result = length_of_last_word(input_string)\n",
        "print(f\"The length of the last word is: {result}\")\n"
      ],
      "metadata": {
        "id": "jwMM_qECVEBp"
      },
      "execution_count": null,
      "outputs": []
    },
    {
      "cell_type": "markdown",
      "source": [
        "Medium:\n",
        "Given an integer array of size n, find all elements that appear more than [n/3]times."
      ],
      "metadata": {
        "id": "O-1A71INVaK0"
      }
    },
    {
      "cell_type": "code",
      "source": [
        "def find_elements(arr):\n",
        "    n = len(arr)\n",
        "    count = {}\n",
        "    result = []\n",
        "\n",
        "    # Count occurrences of each element in the array\n",
        "    for num in arr:\n",
        "        if num in count:\n",
        "            count[num] += 1\n",
        "        else:\n",
        "            count[num] = 1\n",
        "\n",
        "    # Find elements that appear more than n/3 times\n",
        "    threshold = n // 3\n",
        "    # counting elements based on threshold value\n",
        "    for key, value in count.items():\n",
        "        if value > threshold:\n",
        "            result.append(key)\n",
        "\n",
        "    return result\n",
        "\n",
        "\n",
        "input_array = list(map(int, input_str.split()))\n",
        "output = find_elements(input_array)\n",
        "print(\"Elements appearing more than n/3 times:\", output)\n"
      ],
      "metadata": {
        "id": "faF8_zz_Xs5w"
      },
      "execution_count": null,
      "outputs": []
    },
    {
      "cell_type": "markdown",
      "source": [
        "Hard:\n",
        "Given an integer n, count the total number of digit 1 appearing in all non-negative integers less than or equal to n."
      ],
      "metadata": {
        "id": "FU36s2pJgwhI"
      }
    },
    {
      "cell_type": "code",
      "source": [
        "def count_digit_one(n):\n",
        "    count = 0\n",
        "    for i in range(n + 1):\n",
        "        count += str(i).count('1')\n",
        "    return count\n",
        "\n",
        "\n",
        "num = int(input())\n",
        "result = count_digit_one(num)\n",
        "print(f\"The total number of digit 1 appearing from 0 to {num} is: {result}\")\n"
      ],
      "metadata": {
        "id": "YV820-DihLV4"
      },
      "execution_count": null,
      "outputs": []
    }
  ]
}